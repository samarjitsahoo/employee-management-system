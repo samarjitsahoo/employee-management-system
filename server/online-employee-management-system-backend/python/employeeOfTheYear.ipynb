{
 "cells": [
  {
   "cell_type": "code",
   "execution_count": 1,
   "metadata": {},
   "outputs": [],
   "source": [
    "import os\n",
    "import joblib\n",
    "from dotenv import load_dotenv\n",
    "import numpy as np\n",
    "import pandas as pd\n",
    "import matplotlib.pyplot as plt\n",
    "import seaborn as sns\n",
    "from pymongo import MongoClient\n",
    "from sklearn.model_selection import train_test_split\n",
    "from sklearn.preprocessing import MinMaxScaler\n",
    "from sklearn.linear_model import LinearRegression\n",
    "from sklearn.ensemble import RandomForestRegressor\n",
    "from sklearn.tree import DecisionTreeRegressor\n",
    "from sklearn.metrics import mean_squared_error, r2_score"
   ]
  },
  {
   "cell_type": "markdown",
   "metadata": {},
   "source": [
    "## STEP 1: Connect to MongoDB Atlas"
   ]
  },
  {
   "cell_type": "code",
   "execution_count": 2,
   "metadata": {},
   "outputs": [],
   "source": [
    "load_dotenv()\n",
    "# Retrieve MongoDB URI from environment variables\n",
    "mongo_uri = os.getenv(\"MONGO_DB_URI\")\n",
    "if not mongo_uri:\n",
    "    raise ValueError(\"MongoDBUrl not found in .env file\")\n",
    "\n",
    "# Connect to MongoDB Atlas\n",
    "client = MongoClient(mongo_uri)\n",
    "db = client[\"employeeverse\"]  # Database name\n",
    "collection = db[\"employee\"]    # Collection name\n",
    "\n",
    "cursor = collection.find({})\n",
    "employees = pd.DataFrame(list(cursor))"
   ]
  },
  {
   "cell_type": "markdown",
   "metadata": {},
   "source": [
    "## Step 2: Drop unnecessary columns"
   ]
  },
  {
   "cell_type": "code",
   "execution_count": null,
   "metadata": {},
   "outputs": [
    {
     "name": "stdout",
     "output_type": "stream",
     "text": [
      "Dataset after dropping non-relevant columns:\n",
      "   employeeId          username firstName lastName  performanceScore  \\\n",
      "0           1      justinhuang1    Justin    Huang                74   \n",
      "1           2  michellestewart2  Michelle  Stewart                58   \n",
      "2           3     michaelwhite3   Michael    White                93   \n",
      "3           4        sarahboyd4     Sarah     Boyd                73   \n",
      "4           5         lisabarr5      Lisa     Barr                77   \n",
      "\n",
      "   attendanceScore  peerFeedbackScore  managerRating  overtimeScore  \\\n",
      "0               75                 81             93             28   \n",
      "1               68                 55             75             66   \n",
      "2              100                 93             90             81   \n",
      "3               66                 84             86             67   \n",
      "4               61                 64             82             31   \n",
      "\n",
      "   innovationScore  leadershipScore  customerFeedbackScore  \\\n",
      "0               78               73                     57   \n",
      "1               58               75                     95   \n",
      "2               78               54                     95   \n",
      "3               96               93                     58   \n",
      "4               57               95                     68   \n",
      "\n",
      "   taskCompletionEfficiency  problemSolvingScore  \n",
      "0                        88                   92  \n",
      "1                        85                   77  \n",
      "2                        81                   93  \n",
      "3                        86                   77  \n",
      "4                        73                   84  \n"
     ]
    }
   ],
   "source": [
    "irrelevant_columns = [\"_id\", \"regdNo\", \"designation\", \"email\", \"password\", \"genderCode\"]\n",
    "employees.drop(columns=irrelevant_columns, inplace=True, errors=\"ignore\")\n",
    "\n",
    "# Print dataset after dropping irrelevant columns\n",
    "print(\"Dataset after dropping non-relevant columns:\")\n",
    "print(employees.head())"
   ]
  },
  {
   "cell_type": "code",
   "execution_count": 4,
   "metadata": {},
   "outputs": [
    {
     "name": "stdout",
     "output_type": "stream",
     "text": [
      "\n",
      "Dataset Info:\n",
      "<class 'pandas.core.frame.DataFrame'>\n",
      "RangeIndex: 10000 entries, 0 to 9999\n",
      "Data columns (total 14 columns):\n",
      " #   Column                    Non-Null Count  Dtype \n",
      "---  ------                    --------------  ----- \n",
      " 0   employeeId                10000 non-null  int64 \n",
      " 1   username                  10000 non-null  object\n",
      " 2   firstName                 10000 non-null  object\n",
      " 3   lastName                  10000 non-null  object\n",
      " 4   performanceScore          10000 non-null  int64 \n",
      " 5   attendanceScore           10000 non-null  int64 \n",
      " 6   peerFeedbackScore         10000 non-null  int64 \n",
      " 7   managerRating             10000 non-null  int64 \n",
      " 8   overtimeScore             10000 non-null  int64 \n",
      " 9   innovationScore           10000 non-null  int64 \n",
      " 10  leadershipScore           10000 non-null  int64 \n",
      " 11  customerFeedbackScore     10000 non-null  int64 \n",
      " 12  taskCompletionEfficiency  10000 non-null  int64 \n",
      " 13  problemSolvingScore       10000 non-null  int64 \n",
      "dtypes: int64(11), object(3)\n",
      "memory usage: 1.1+ MB\n",
      "None\n",
      "\n",
      "Missing Values:\n",
      "employeeId                  0\n",
      "username                    0\n",
      "firstName                   0\n",
      "lastName                    0\n",
      "performanceScore            0\n",
      "attendanceScore             0\n",
      "peerFeedbackScore           0\n",
      "managerRating               0\n",
      "overtimeScore               0\n",
      "innovationScore             0\n",
      "leadershipScore             0\n",
      "customerFeedbackScore       0\n",
      "taskCompletionEfficiency    0\n",
      "problemSolvingScore         0\n",
      "dtype: int64\n"
     ]
    }
   ],
   "source": [
    "print(\"\\nDataset Info:\")\n",
    "print(employees.info())\n",
    "print(\"\\nMissing Values:\")\n",
    "print(employees.isnull().sum())"
   ]
  },
  {
   "cell_type": "markdown",
   "metadata": {},
   "source": [
    "## STEP 3: Feature Selection & Preprocessing"
   ]
  },
  {
   "cell_type": "code",
   "execution_count": 5,
   "metadata": {},
   "outputs": [],
   "source": [
    "ml_features = [\n",
    "    \"performanceScore\", \"attendanceScore\", \"peerFeedbackScore\", \"managerRating\", \"overtimeScore\",\n",
    "    \"innovationScore\", \"leadershipScore\", \"customerFeedbackScore\", \"taskCompletionEfficiency\", \"problemSolvingScore\"\n",
    "]\n",
    "\n",
    "# Normalize scores (0-1 scale)\n",
    "scaler = MinMaxScaler()\n",
    "employees[ml_features] = scaler.fit_transform(employees[ml_features])\n",
    "\n",
    "# Define final ranking score using weighted sum\n",
    "weights = np.array([0.2, 0.15, 0.1, 0.15, 0.05, 0.1, 0.1, 0.05, 0.05, 0.05])\n",
    "employees[\"finalScore\"] = employees[ml_features].dot(weights)"
   ]
  },
  {
   "cell_type": "markdown",
   "metadata": {},
   "source": [
    "## STEP 4: Train-Test Split"
   ]
  },
  {
   "cell_type": "code",
   "execution_count": 6,
   "metadata": {},
   "outputs": [],
   "source": [
    "X = employees[ml_features]\n",
    "y = employees[\"finalScore\"]\n",
    "X_train, X_test, y_train, y_test = train_test_split(X, y, test_size=0.2, random_state=42)"
   ]
  },
  {
   "cell_type": "markdown",
   "metadata": {},
   "source": [
    "## STEP 5: Train ML Models"
   ]
  },
  {
   "cell_type": "code",
   "execution_count": 7,
   "metadata": {},
   "outputs": [
    {
     "name": "stdout",
     "output_type": "stream",
     "text": [
      "Linear Regression - R2 Score: 1.0000, MSE: 0.0000\n",
      "Decision Tree - R2 Score: 0.7606, MSE: 0.0026\n",
      "Random Forest - R2 Score: 0.9230, MSE: 0.0008\n"
     ]
    }
   ],
   "source": [
    "models = {\n",
    "    \"Linear Regression\": LinearRegression(),\n",
    "    \"Decision Tree\": DecisionTreeRegressor(random_state=42),\n",
    "    \"Random Forest\": RandomForestRegressor(n_estimators=100, random_state=42)\n",
    "}\n",
    "\n",
    "best_model = None\n",
    "best_r2 = -float(\"inf\")\n",
    "\n",
    "for name, model in models.items():\n",
    "    model.fit(X_train, y_train)\n",
    "    y_pred = model.predict(X_test)\n",
    "    r2 = r2_score(y_test, y_pred)\n",
    "    mse = mean_squared_error(y_test, y_pred)\n",
    "    print(f\"{name} - R2 Score: {r2:.4f}, MSE: {mse:.4f}\")\n",
    "    \n",
    "    if r2 > best_r2:\n",
    "        best_r2 = r2\n",
    "        best_model = model"
   ]
  },
  {
   "cell_type": "markdown",
   "metadata": {},
   "source": [
    "## STEP 6: Save the Best Model"
   ]
  },
  {
   "cell_type": "code",
   "execution_count": 8,
   "metadata": {},
   "outputs": [
    {
     "name": "stdout",
     "output_type": "stream",
     "text": [
      "Best model saved as best_employee_model.pkl\n"
     ]
    }
   ],
   "source": [
    "joblib.dump(best_model, \"best_employee_model.pkl\")\n",
    "print(\"Best model saved as best_employee_model.pkl\")"
   ]
  },
  {
   "cell_type": "markdown",
   "metadata": {},
   "source": [
    "## STEP 7: Identify Top 10 Employees"
   ]
  },
  {
   "cell_type": "code",
   "execution_count": 9,
   "metadata": {},
   "outputs": [
    {
     "name": "stdout",
     "output_type": "stream",
     "text": [
      "Top 10 Employees of the Year:\n",
      "      employeeId             username firstName   lastName  finalScore\n",
      "7687        7688   stevensullivan7688    Steven   Sullivan    0.856470\n",
      "7642        7643    michaelwilson7643   Michael     Wilson    0.851339\n",
      "3935        3936   sarahmiddleton3936     Sarah  Middleton    0.819815\n",
      "7431        7432          troykim7432      Troy        Kim    0.814571\n",
      "3479        3480       luiswalker3480      Luis     Walker    0.813292\n",
      "6359        6360       sheilabell6360    Sheila       Bell    0.813113\n",
      "6673        6674   jennifertaylor6674  Jennifer     Taylor    0.811500\n",
      "4669        4670   mitchellmalone4670  Mitchell     Malone    0.809315\n",
      "8924        8925  feliciamatthews8925   Felicia   Matthews    0.809256\n",
      "4737        4738    shawnmitchell4738     Shawn   Mitchell    0.805435\n"
     ]
    }
   ],
   "source": [
    "top_10_employees = employees.nlargest(10, \"finalScore\")\n",
    "print(\"Top 10 Employees of the Year:\")\n",
    "print(top_10_employees[[\"employeeId\", \"username\", \"firstName\", \"lastName\", \"finalScore\"]])"
   ]
  },
  {
   "cell_type": "markdown",
   "metadata": {},
   "source": [
    "## STEP 8: Visualization"
   ]
  },
  {
   "cell_type": "code",
   "execution_count": 10,
   "metadata": {},
   "outputs": [
    {
     "name": "stderr",
     "output_type": "stream",
     "text": [
      "C:\\Users\\samar\\AppData\\Local\\Temp\\ipykernel_9612\\1423807203.py:2: FutureWarning: \n",
      "\n",
      "Passing `palette` without assigning `hue` is deprecated and will be removed in v0.14.0. Assign the `y` variable to `hue` and set `legend=False` for the same effect.\n",
      "\n",
      "  sns.barplot(y=top_10_employees[\"username\"], x=top_10_employees[\"finalScore\"], palette=\"viridis\")\n"
     ]
    },
    {
     "data": {
      "image/png": "[encoded data removed]",
      "text/plain": [
       "<Figure size 1000x600 with 1 Axes>"
      ]
     },
     "metadata": {},
     "output_type": "display_data"
    }
   ],
   "source": [
    "plt.figure(figsize=(10, 6))\n",
    "sns.barplot(y=top_10_employees[\"username\"], x=top_10_employees[\"finalScore\"], palette=\"viridis\")\n",
    "plt.xlabel(\"Final Score\")\n",
    "plt.ylabel(\"Employee Username\")\n",
    "plt.title(\"Top 10 Employees of the Year\")\n",
    "plt.show()"
   ]
  },
  {
   "cell_type": "code",
   "execution_count": null,
   "metadata": {},
   "outputs": [],
   "source": []
  }
 ],
 "metadata": {
  "kernelspec": {
   "display_name": "Python 3",
   "language": "python",
   "name": "python3"
  },
  "language_info": {
   "codemirror_mode": {
    "name": "ipython",
    "version": 3
   },
   "file_extension": ".py",
   "mimetype": "text/x-python",
   "name": "python",
   "nbconvert_exporter": "python",
   "pygments_lexer": "ipython3",
   "version": "3.11.4"
  }
 },
 "nbformat": 4,
 "nbformat_minor": 2
}
